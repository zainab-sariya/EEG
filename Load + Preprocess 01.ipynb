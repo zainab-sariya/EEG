{
 "cells": [
  {
   "cell_type": "code",
   "execution_count": 6,
   "id": "85036926",
   "metadata": {},
   "outputs": [],
   "source": [
    "from glob import glob\n",
    "import os\n",
    "import mne\n",
    "import numpy as np\n",
    "import pandas as pd\n",
    "import matplotlib.pyplot as plt\n",
    "from matplotlib import mlab\n",
    "import scipy.io\n",
    "from scipy import signal\n",
    "from scipy.signal import firwin\n",
    "from scipy.signal import welch\n",
    "from scipy.signal import spectrogram\n",
    "import scipy.signal\n",
    "from scipy import stats\n",
    "import warnings\n",
    "\n",
    "warnings.filterwarnings(\"ignore\", category=UserWarning)\n",
    "from sklearn.model_selection import train_test_split,KFold  # Add this import\n",
    "from sklearn.discriminant_analysis import LinearDiscriminantAnalysis\n",
    "from sklearn.metrics import accuracy_score\n",
    "from sklearn.linear_model import LogisticRegression"
   ]
  },
  {
   "cell_type": "code",
   "execution_count": 7,
   "id": "d0937581",
   "metadata": {},
   "outputs": [],
   "source": [
    "# List of MATLAB files\n",
    "mat_files = [\n",
    "    \"P1_pre_training.mat\",\n",
    "    \"P1_pre_test.mat\",\n",
    "    \"P1_post_training.mat\",\n",
    "    \"P1_post_test.mat\",\n",
    "    \"P2_pre_training.mat\",\n",
    "    \"P2_pre_test.mat\",\n",
    "    \"P2_post_training.mat\",\n",
    "    \"P2_post_test.mat\",\n",
    "    \"P3_pre_training.mat\",\n",
    "    \"P3_pre_test.mat\",\n",
    "    \"P3_post_training.mat\",\n",
    "    \"P3_post_test.mat\",\n",
    "]"
   ]
  },
  {
   "cell_type": "code",
   "execution_count": 8,
   "id": "1063b2c1",
   "metadata": {},
   "outputs": [],
   "source": [
    "# Initialize variables for data storage\n",
    "eeg_data = []"
   ]
  },
  {
   "cell_type": "markdown",
   "id": "b362c27e",
   "metadata": {},
   "source": [
    "# PRE - PROCESSING"
   ]
  },
  {
   "cell_type": "code",
   "execution_count": 30,
   "id": "be54fced",
   "metadata": {
    "scrolled": true
   },
   "outputs": [
    {
     "name": "stdout",
     "output_type": "stream",
     "text": [
      "Creating RawArray with float64 data, n_channels=16, n_times=271816\n",
      "    Range : 0 ... 271815 =      0.000 ...  1061.777 secs\n",
      "Ready.\n",
      "No data channels found. The highpass and lowpass values in the measurement info will not be updated.\n",
      "Filtering raw data in 1 contiguous segment\n",
      "Setting up high-pass filter at 1 Hz\n",
      "\n",
      "FIR filter parameters\n",
      "---------------------\n",
      "Designing a one-pass, zero-phase, non-causal highpass filter:\n",
      "- Windowed time-domain design (firwin) method\n",
      "- Hamming window with 0.0194 passband ripple and 53 dB stopband attenuation\n",
      "- Lower passband edge: 1.00\n",
      "- Lower transition bandwidth: 1.00 Hz (-6 dB cutoff frequency: 0.50 Hz)\n",
      "- Filter length: 845 samples (3.301 s)\n",
      "\n"
     ]
    },
    {
     "name": "stderr",
     "output_type": "stream",
     "text": [
      "[Parallel(n_jobs=1)]: Using backend SequentialBackend with 1 concurrent workers.\n",
      "[Parallel(n_jobs=1)]: Done   1 out of   1 | elapsed:    0.0s remaining:    0.0s\n",
      "[Parallel(n_jobs=1)]: Done   2 out of   2 | elapsed:    0.0s remaining:    0.0s\n",
      "[Parallel(n_jobs=1)]: Done   3 out of   3 | elapsed:    0.0s remaining:    0.0s\n",
      "[Parallel(n_jobs=1)]: Done   4 out of   4 | elapsed:    0.0s remaining:    0.0s\n",
      "[Parallel(n_jobs=1)]: Done  16 out of  16 | elapsed:    0.1s finished\n"
     ]
    },
    {
     "ename": "ValueError",
     "evalue": "No EEG, ECoG, sEEG or DBS channels found to rereference.",
     "output_type": "error",
     "traceback": [
      "\u001b[1;31m---------------------------------------------------------------------------\u001b[0m",
      "\u001b[1;31mValueError\u001b[0m                                Traceback (most recent call last)",
      "\u001b[1;32m~\\AppData\\Local\\Temp\\ipykernel_16120\\2133774531.py\u001b[0m in \u001b[0;36m<module>\u001b[1;34m\u001b[0m\n\u001b[0;32m     35\u001b[0m \u001b[1;33m\u001b[0m\u001b[0m\n\u001b[0;32m     36\u001b[0m         \u001b[1;31m# Reference electrodes (choose an appropriate reference)\u001b[0m\u001b[1;33m\u001b[0m\u001b[1;33m\u001b[0m\u001b[0m\n\u001b[1;32m---> 37\u001b[1;33m         \u001b[0mraw\u001b[0m\u001b[1;33m.\u001b[0m\u001b[0mset_eeg_reference\u001b[0m\u001b[1;33m(\u001b[0m\u001b[0mref_channels\u001b[0m\u001b[1;33m=\u001b[0m\u001b[1;34m'average'\u001b[0m\u001b[1;33m)\u001b[0m\u001b[1;33m\u001b[0m\u001b[1;33m\u001b[0m\u001b[0m\n\u001b[0m\u001b[0;32m     38\u001b[0m \u001b[1;33m\u001b[0m\u001b[0m\n\u001b[0;32m     39\u001b[0m         \u001b[1;31m# Identify and mark bad channels (modify this based on your data quality)\u001b[0m\u001b[1;33m\u001b[0m\u001b[1;33m\u001b[0m\u001b[0m\n",
      "\u001b[1;32m<decorator-gen-49>\u001b[0m in \u001b[0;36mset_eeg_reference\u001b[1;34m(self, ref_channels, projection, ch_type, forward, joint, verbose)\u001b[0m\n",
      "\u001b[1;32m~\\anaconda3\\lib\\site-packages\\mne\\channels\\channels.py\u001b[0m in \u001b[0;36mset_eeg_reference\u001b[1;34m(self, ref_channels, projection, ch_type, forward, joint, verbose)\u001b[0m\n\u001b[0;32m    279\u001b[0m         \u001b[1;32mfrom\u001b[0m \u001b[1;33m.\u001b[0m\u001b[1;33m.\u001b[0m\u001b[0mio\u001b[0m\u001b[1;33m.\u001b[0m\u001b[0mreference\u001b[0m \u001b[1;32mimport\u001b[0m \u001b[0mset_eeg_reference\u001b[0m\u001b[1;33m\u001b[0m\u001b[1;33m\u001b[0m\u001b[0m\n\u001b[0;32m    280\u001b[0m \u001b[1;33m\u001b[0m\u001b[0m\n\u001b[1;32m--> 281\u001b[1;33m         return set_eeg_reference(\n\u001b[0m\u001b[0;32m    282\u001b[0m             \u001b[0mself\u001b[0m\u001b[1;33m,\u001b[0m\u001b[1;33m\u001b[0m\u001b[1;33m\u001b[0m\u001b[0m\n\u001b[0;32m    283\u001b[0m             \u001b[0mref_channels\u001b[0m\u001b[1;33m=\u001b[0m\u001b[0mref_channels\u001b[0m\u001b[1;33m,\u001b[0m\u001b[1;33m\u001b[0m\u001b[1;33m\u001b[0m\u001b[0m\n",
      "\u001b[1;32m<decorator-gen-317>\u001b[0m in \u001b[0;36mset_eeg_reference\u001b[1;34m(inst, ref_channels, copy, projection, ch_type, forward, joint, verbose)\u001b[0m\n",
      "\u001b[1;32m~\\anaconda3\\lib\\site-packages\\mne\\io\\reference.py\u001b[0m in \u001b[0;36mset_eeg_reference\u001b[1;34m(inst, ref_channels, copy, projection, ch_type, forward, joint, verbose)\u001b[0m\n\u001b[0;32m    344\u001b[0m     \u001b[0m_check_can_reref\u001b[0m\u001b[1;33m(\u001b[0m\u001b[0minst\u001b[0m\u001b[1;33m)\u001b[0m\u001b[1;33m\u001b[0m\u001b[1;33m\u001b[0m\u001b[0m\n\u001b[0;32m    345\u001b[0m \u001b[1;33m\u001b[0m\u001b[0m\n\u001b[1;32m--> 346\u001b[1;33m     \u001b[0mch_type\u001b[0m \u001b[1;33m=\u001b[0m \u001b[0m_get_ch_type\u001b[0m\u001b[1;33m(\u001b[0m\u001b[0minst\u001b[0m\u001b[1;33m,\u001b[0m \u001b[0mch_type\u001b[0m\u001b[1;33m)\u001b[0m\u001b[1;33m\u001b[0m\u001b[1;33m\u001b[0m\u001b[0m\n\u001b[0m\u001b[0;32m    347\u001b[0m \u001b[1;33m\u001b[0m\u001b[0m\n\u001b[0;32m    348\u001b[0m     \u001b[1;32mif\u001b[0m \u001b[0mprojection\u001b[0m\u001b[1;33m:\u001b[0m  \u001b[1;31m# average reference projector\u001b[0m\u001b[1;33m\u001b[0m\u001b[1;33m\u001b[0m\u001b[0m\n",
      "\u001b[1;32m~\\anaconda3\\lib\\site-packages\\mne\\io\\reference.py\u001b[0m in \u001b[0;36m_get_ch_type\u001b[1;34m(inst, ch_type)\u001b[0m\n\u001b[0;32m    445\u001b[0m         \u001b[1;31m# if auto comes up empty, or the user specifies a bad ch_type.\u001b[0m\u001b[1;33m\u001b[0m\u001b[1;33m\u001b[0m\u001b[0m\n\u001b[0;32m    446\u001b[0m         \u001b[1;32melse\u001b[0m\u001b[1;33m:\u001b[0m\u001b[1;33m\u001b[0m\u001b[1;33m\u001b[0m\u001b[0m\n\u001b[1;32m--> 447\u001b[1;33m             raise ValueError(\n\u001b[0m\u001b[0;32m    448\u001b[0m                 \u001b[1;34m\"No EEG, ECoG, sEEG or DBS channels found \"\u001b[0m \u001b[1;34m\"to rereference.\"\u001b[0m\u001b[1;33m\u001b[0m\u001b[1;33m\u001b[0m\u001b[0m\n\u001b[0;32m    449\u001b[0m             )\n",
      "\u001b[1;31mValueError\u001b[0m: No EEG, ECoG, sEEG or DBS channels found to rereference."
     ]
    }
   ],
   "source": [
    "# Loop through the MATLAB files\n",
    "for file in mat_files:\n",
    "    mat_data = scipy.io.loadmat(file)\n",
    "    \n",
    "    \n",
    "    # Extract EEG data (without labels)\n",
    "    y = y_with_labels[1:, :].astype(float)  # Remove the first row containing labels and convert to float\n",
    "    fs = mat_data.get('fs')[0, 0]\n",
    "    \n",
    "    # Convert channel names from numpy array to strings\n",
    "    channel_names = [str(element[0]) for element in y_with_labels[0, :]]\n",
    "    \n",
    "    # Create an MNE Raw object with channel names and data\n",
    "    info = mne.create_info(ch_names=channel_names, sfreq=fs)\n",
    "    raw = mne.io.RawArray(y.T, info)\n",
    "    \n",
    "    # Define the desired filter parameters\n",
    "    l_freq = 1  # Low-pass frequency\n",
    "    h_freq = None  # High-pass frequency (None for no high-pass filter)\n",
    "    \n",
    "    # Calculate the power in each channel and time point\n",
    "    power = np.sum(np.square(y), axis=0)\n",
    "    \n",
    "    # Check if there is any non-zero power (frequency components)\n",
    "    if np.any(power):\n",
    "        # If there are frequencies, apply the filter to EEG channels\n",
    "        \n",
    "        # Manually specify EEG channel names\n",
    "        eeg_channel_names = ['EEG 1', 'EEG 2', 'EEG 3', 'EEG 4', 'EEG 5', 'EEG 6', 'EEG 7', 'EEG 8', 'EEG 9', 'EEG 10', 'EEG 11', 'EEG 12', 'EEG 13', 'EEG 14', 'EEG 15', 'EEG 16']\n",
    "\n",
    "        # Use the channel names to create picks\n",
    "        eeg_picks = [raw.info['ch_names'].index(name) for name in eeg_channel_names]\n",
    "\n",
    "        raw.filter(l_freq=l_freq, h_freq=h_freq, picks=eeg_picks)\n",
    "        \n",
    "        # Reference electrodes (choose an appropriate reference)\n",
    "        raw.set_eeg_reference(ref_channels='average')\n",
    "        \n",
    "        # Identify and mark bad channels (modify this based on your data quality)\n",
    "        # raw.info['bads'] = ['EEG 1', 'EEG 2']  # Example: Mark channels as bad\n",
    "        \n",
    "        # Re-sample the data to a common sampling rate if needed\n",
    "        target_sfreq = 256  # Adjust to your desired sampling rate\n",
    "        raw.resample(target_sfreq)\n",
    "        \n",
    "        eeg_data.append(raw)\n",
    "    else:\n",
    "        # Handle the case where there are no frequency components\n",
    "        print(f\"No frequencies found in {file}. Skipping preprocessing.\")"
   ]
  },
  {
   "cell_type": "code",
   "execution_count": 29,
   "id": "adc64770",
   "metadata": {},
   "outputs": [
    {
     "name": "stdout",
     "output_type": "stream",
     "text": [
      "['EEG 1', 'EEG 2', 'EEG 3', 'EEG 4', 'EEG 5', 'EEG 6', 'EEG 7', 'EEG 8', 'EEG 9', 'EEG 10', 'EEG 11', 'EEG 12', 'EEG 13', 'EEG 14', 'EEG 15', 'EEG 16']\n",
      "eeg_picks\n"
     ]
    }
   ],
   "source": [
    "print(raw.info['ch_names'])"
   ]
  },
  {
   "cell_type": "markdown",
   "id": "4eb99798",
   "metadata": {},
   "source": [
    "# Data Visualization: \n",
    "The preprocessed data can be used for basic data visualization.\n",
    "\n",
    "# Frequency Analysis: \n",
    "You will need to implement specific methods for frequency analysis (e.g., FFT, multitaper) and adjust the code accordingly.\n",
    "\n",
    "# Event-Related Potentials (ERPs): \n",
    "You can create epochs from the preprocessed data, but ERP analysis often involves additional steps such as baseline correction and averaging.\n",
    "\n",
    "# Time-Frequency Analysis: \n",
    "You can perform time-frequency analysis using techniques like Morlet wavelets, but you may need to customize the code for more advanced analyses.\n",
    "\n",
    "# Artifact Removal: \n",
    "The code includes basic preprocessing, but additional artifact detection and removal methods may be required.\n",
    "\n",
    "# Statistical Analysis: \n",
    "The code includes basic statistical testing, but specific tests and analyses will depend on your research questions.\n",
    "\n",
    "# Connectivity Analysis: \n",
    "Connectivity analysis typically requires preprocessing steps specific to connectivity measures (e.g., coherence, cross-correlation).\n",
    "\n",
    "# Machine Learning Classification: \n",
    "Machine learning requires feature extraction and model training, which are not included in the preprocessing code.\n",
    "\n",
    "# Source Localization: \n",
    "Source localization involves complex modeling and may require specialized preprocessing steps.\n",
    "\n",
    "# Temporal and Spatial Patterns: \n",
    "Analyzing temporal and spatial patterns depends on your specific research goals and analysis techniques."
   ]
  },
  {
   "cell_type": "markdown",
   "id": "6639ae23",
   "metadata": {},
   "source": [
    "# Data Visualization"
   ]
  }
 ],
 "metadata": {
  "kernelspec": {
   "display_name": "Python 3 (ipykernel)",
   "language": "python",
   "name": "python3"
  },
  "language_info": {
   "codemirror_mode": {
    "name": "ipython",
    "version": 3
   },
   "file_extension": ".py",
   "mimetype": "text/x-python",
   "name": "python",
   "nbconvert_exporter": "python",
   "pygments_lexer": "ipython3",
   "version": "3.9.13"
  }
 },
 "nbformat": 4,
 "nbformat_minor": 5
}
